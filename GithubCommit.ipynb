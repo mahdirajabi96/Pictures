{
 "cells": [
  {
   "cell_type": "code",
   "execution_count": 1,
   "metadata": {},
   "outputs": [],
   "source": [
    "import subprocess"
   ]
  },
  {
   "cell_type": "code",
   "execution_count": null,
   "metadata": {},
   "outputs": [
    {
     "name": "stdout",
     "output_type": "stream",
     "text": [
      "Reinitialized existing Git repository in C:/Users/mahdi/Pictures/Notebooks/.git/\n",
      "\n",
      "\n",
      "\n",
      "user.email=mahdi.rajabi.96@gmail.com\n",
      "user.name=mahdi\n",
      "\n",
      "\n",
      "[master 1da5c58] first commit\n",
      " 1 file changed, 59 insertions(+), 115 deletions(-)\n",
      " rewrite GithubCommit.ipynb (78%)\n",
      "\n",
      "On branch master\n",
      "nothing to commit, working tree clean\n",
      "\n"
     ]
    }
   ],
   "source": [
    "path = r'C:\\Users\\mahdi\\Pictures\\Notebooks'\n",
    "commit_message = \"first commit 3\"\n",
    "repo = \"https://github.com/mahdirajabi96/Pictures.git\"\n",
    "\n",
    "print(subprocess.check_output('git init {}'.format(path), shell=True).decode())\n",
    "print(subprocess.check_output('git config --global user.email mahdi.rajabi.96@gmail.com', shell=True).decode())\n",
    "print(subprocess.check_output('git config --global user.name mahdi', shell=True).decode())\n",
    "print(subprocess.check_output('git config --global --list', shell=True).decode())\n",
    "print(subprocess.check_output('git add .', shell=True).decode())\n",
    "print(subprocess.check_output('git commit -m \"{}\"'.format(commit_message), shell=True).decode())\n",
    "print(subprocess.check_output('git status', shell=True).decode())\n",
    "#print(subprocess.check_output('git remote rm origin', shell=True).decode())\n",
    "try:\n",
    "    print(subprocess.check_output('git remote add origin \"{}\"'.format(repo), shell=True).decode())\n",
    "except:\n",
    "    pass\n",
    "print(subprocess.check_output('git push origin master'.format(repo), shell=True).decode())"
   ]
  }
 ],
 "metadata": {
  "kernelspec": {
   "display_name": "Python 3",
   "language": "python",
   "name": "python3"
  },
  "language_info": {
   "codemirror_mode": {
    "name": "ipython",
    "version": 3
   },
   "file_extension": ".py",
   "mimetype": "text/x-python",
   "name": "python",
   "nbconvert_exporter": "python",
   "pygments_lexer": "ipython3",
   "version": "3.7.3"
  }
 },
 "nbformat": 4,
 "nbformat_minor": 2
}
