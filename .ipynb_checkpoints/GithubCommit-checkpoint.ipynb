{
 "cells": [
  {
   "cell_type": "code",
   "execution_count": null,
   "metadata": {},
   "outputs": [
    {
     "name": "stdout",
     "output_type": "stream",
     "text": [
      "b'Initialized empty Git repository in C:/Users/mahdi/Pictures/.git/\\n'\n"
     ]
    }
   ],
   "source": [
    "import subprocess\n",
    "path = r'C:\\Users\\mahdi\\Pictures\\Notebooks'\n",
    "print(subprocess.check_output('git init {}'.format(path), shell=True))\n",
    "print(subprocess.check_output('git add .', shell=True))\n",
    "print(subprocess.check_output('git commit -m \"a commit\"', shell=True))"
   ]
  }
 ],
 "metadata": {
  "kernelspec": {
   "display_name": "Python 3",
   "language": "python",
   "name": "python3"
  },
  "language_info": {
   "codemirror_mode": {
    "name": "ipython",
    "version": 3
   },
   "file_extension": ".py",
   "mimetype": "text/x-python",
   "name": "python",
   "nbconvert_exporter": "python",
   "pygments_lexer": "ipython3",
   "version": "3.7.3"
  }
 },
 "nbformat": 4,
 "nbformat_minor": 2
}
