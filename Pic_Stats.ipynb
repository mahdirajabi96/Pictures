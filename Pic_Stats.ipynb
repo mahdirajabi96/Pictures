{
 "cells": [
  {
   "cell_type": "markdown",
   "metadata": {},
   "source": [
    "To Do List:\n",
    "1. Read all the files\n",
    "2. Add meta data:\n",
    "2.1.add date taken (consider all sources)\n",
    "2.2.add ISO,Focal,Exposure,Apperture,Flash\n",
    "2.3.add GPS info\n",
    "2.4.create figures\n",
    "3.Tag people\n",
    "4.Create movies \n",
    "4.1.burst shots\n",
    "4.2.time lapse\n",
    "5.QC folder categories (taken in the same time and check if they are in he same folder)\n"
   ]
  },
  {
   "cell_type": "code",
   "execution_count": 6,
   "metadata": {},
   "outputs": [
    {
     "name": "stdout",
     "output_type": "stream",
     "text": [
      "C:\\Users\\mahdi\\Anaconda3\\python.exe\n",
      "3.7.3 (default, Apr 24 2019, 15:29:51) [MSC v.1915 64 bit (AMD64)]\n",
      "2019-09-02 15:32:28\n"
     ]
    }
   ],
   "source": [
    "import os,sys\n",
    "import matplotlib.pyplot as plt\n",
    "import numpy as np\n",
    "import pandas as pd\n",
    "from datetime import datetime\n",
    "from datetime import timedelta\n",
    "from IPython.display import Image\n",
    "from IPython.core.display import HTML \n",
    "import time\n",
    "import copy\n",
    "import zipfile\n",
    "import shutil\n",
    "from ipywidgets import IntProgress\n",
    "from time import gmtime, strftime\n",
    "import matplotlib.patches as patches\n",
    "import pip\n",
    "import cv2 \n",
    "from PIL import Image\n",
    "from PIL.ExifTags import TAGS, GPSTAGS\n",
    "import folderstats\n",
    "import tensorflow\n",
    "from pip._internal import main\n",
    "print(sys.executable)\n",
    "print(sys.version)\n",
    "print(strftime(\"%Y-%m-%d %H:%M:%S\"))"
   ]
  },
  {
   "cell_type": "code",
   "execution_count": 4,
   "metadata": {},
   "outputs": [
    {
     "name": "stdout",
     "output_type": "stream",
     "text": [
      "Collecting opencv-contrib-python\n",
      "  Using cached https://files.pythonhosted.org/packages/cc/ea/ea342b15c152fb862aeabb02402a0893199a59de821f3347a5fe9bfa2791/opencv_contrib_python-4.1.0.25-cp37-cp37m-win_amd64.whl\n",
      "Requirement already satisfied: numpy>=1.14.5 in c:\\users\\mahdi\\anaconda3\\lib\\site-packages (from opencv-contrib-python) (1.16.4)\n",
      "Installing collected packages: opencv-contrib-python\n",
      "Successfully installed opencv-contrib-python-4.1.0.25\n"
     ]
    },
    {
     "data": {
      "text/plain": [
       "0"
      ]
     },
     "execution_count": 4,
     "metadata": {},
     "output_type": "execute_result"
    }
   ],
   "source": [
    "main([ 'install','opencv-contrib-python'])"
   ]
  },
  {
   "cell_type": "code",
   "execution_count": 7,
   "metadata": {},
   "outputs": [],
   "source": [
    "def get_date_taken(path):\n",
    "    try:\n",
    "        return Image.open(path)._getexif()[36867]\n",
    "    except:\n",
    "        return(pd.NaT)\n",
    "\n",
    "\n",
    "class ImageMetaData(object):\n",
    "    '''\n",
    "    Extract the exif data from any image. Data includes GPS coordinates, \n",
    "    Focal Length, Manufacture, and more.\n",
    "    '''\n",
    "    exif_data = None\n",
    "    image = None\n",
    "\n",
    "    def __init__(self, img_path):\n",
    "        self.image = Image.open(img_path)\n",
    "        #print(self.image._getexif())\n",
    "        self.get_exif_data()\n",
    "        super(ImageMetaData, self).__init__()\n",
    "\n",
    "    def get_exif_data(self):\n",
    "        \"\"\"Returns a dictionary from the exif data of an PIL Image item. Also converts the GPS Tags\"\"\"\n",
    "        exif_data = {}\n",
    "        info = self.image._getexif()\n",
    "        if info:\n",
    "            for tag, value in info.items():\n",
    "                decoded = TAGS.get(tag, tag)\n",
    "                if decoded == \"GPSInfo\":\n",
    "                    gps_data = {}\n",
    "                    for t in value:\n",
    "                        sub_decoded = GPSTAGS.get(t, t)\n",
    "                        gps_data[sub_decoded] = value[t]\n",
    "\n",
    "                    exif_data[decoded] = gps_data\n",
    "                else:\n",
    "                    exif_data[decoded] = value\n",
    "        self.exif_data = exif_data\n",
    "        return exif_data\n",
    "\n",
    "    def get_if_exist(self, data, key):\n",
    "        if key in data:\n",
    "            return data[key]\n",
    "        return None\n",
    "\n",
    "    def convert_to_degress(self, value):\n",
    "\n",
    "        \"\"\"Helper function to convert the GPS coordinates \n",
    "        stored in the EXIF to degress in float format\"\"\"\n",
    "        d0 = value[0][0]\n",
    "        d1 = value[0][1]\n",
    "        d = float(d0) / float(d1)\n",
    "\n",
    "        m0 = value[1][0]\n",
    "        m1 = value[1][1]\n",
    "        m = float(m0) / float(m1)\n",
    "\n",
    "        s0 = value[2][0]\n",
    "        s1 = value[2][1]\n",
    "        s = float(s0) / float(s1)\n",
    "\n",
    "        return d + (m / 60.0) + (s / 3600.0)\n",
    "\n",
    "    def get_lat_lng(self):\n",
    "        \"\"\"Returns the latitude and longitude, if available, from the provided exif_data (obtained through get_exif_data above)\"\"\"\n",
    "        lat = None\n",
    "        lng = None\n",
    "        exif_data = self.get_exif_data()\n",
    "        #print(exif_data)\n",
    "        if \"GPSInfo\" in exif_data:      \n",
    "            gps_info = exif_data[\"GPSInfo\"]\n",
    "            gps_latitude = self.get_if_exist(gps_info, \"GPSLatitude\")\n",
    "            gps_latitude_ref = self.get_if_exist(gps_info, 'GPSLatitudeRef')\n",
    "            gps_longitude = self.get_if_exist(gps_info, 'GPSLongitude')\n",
    "            gps_longitude_ref = self.get_if_exist(gps_info, 'GPSLongitudeRef')\n",
    "            if gps_latitude and gps_latitude_ref and gps_longitude and gps_longitude_ref:\n",
    "                lat = self.convert_to_degress(gps_latitude)\n",
    "                if gps_latitude_ref != \"N\":                     \n",
    "                    lat = 0 - lat\n",
    "                lng = self.convert_to_degress(gps_longitude)\n",
    "                if gps_longitude_ref != \"E\":\n",
    "                    lng = 0 - lng\n",
    "        return lat, lng\n",
    "def GetMetaData(path):\n",
    "    try:\n",
    "        return(ImageMetaData(path).exif_data)\n",
    "    except:\n",
    "        return({})"
   ]
  },
  {
   "cell_type": "code",
   "execution_count": 8,
   "metadata": {},
   "outputs": [
    {
     "name": "stdout",
     "output_type": "stream",
     "text": [
      "[2019-09-02 15:33:10] reading files\n"
     ]
    },
    {
     "data": {
      "image/png": "[encoded data removed]",
      "text/plain": [
       "<Figure size 1080x360 with 1 Axes>"
      ]
     },
     "metadata": {
      "needs_background": "light"
     },
     "output_type": "display_data"
    },
    {
     "name": "stdout",
     "output_type": "stream",
     "text": [
      "['path', 'name', 'extension', 'size']\n",
      "[2019-09-02 15:33:28]  - (36359, 4)\n"
     ]
    }
   ],
   "source": [
    "print('[{}] reading files'.format(strftime(\"%Y-%m-%d %H:%M:%S\")))\n",
    "Photo_DF = folderstats.folderstats(r\"C:\\Users\\mahdi\\Pictures\")\n",
    "Photo_DF['extension'] = Photo_DF.extension.apply(lambda x:str(x).lower())\n",
    "Photo_DF = Photo_DF[Photo_DF.folder==False]\n",
    "Photo_DF = Photo_DF[['path', 'name', 'extension', 'size']]\n",
    "Photo_DF = Photo_DF[Photo_DF.extension.isin(['jpg','mp4','mov','3gp','wmu','avi','mpeg','tif','gif'])]\n",
    "Photo_DF.sort_values('path',inplace=True)\n",
    "Photo_DF.extension.value_counts().plot.bar(figsize=(15,5))\n",
    "plt.show()\n",
    "print(list(Photo_DF))\n",
    "print('[{}]  - {}'.format(strftime(\"%Y-%m-%d %H:%M:%S\"),Photo_DF.shape))"
   ]
  },
  {
   "cell_type": "code",
   "execution_count": 9,
   "metadata": {
    "scrolled": false
   },
   "outputs": [
    {
     "name": "stdout",
     "output_type": "stream",
     "text": [
      "[2019-09-02 15:33:32] reading meta data\n",
      "[2019-09-02 15:44:04] done!\n"
     ]
    }
   ],
   "source": [
    "print('[{}] reading meta data'.format(strftime(\"%Y-%m-%d %H:%M:%S\")))\n",
    "Photo_DF['MetaData'] = Photo_DF.path.apply(GetMetaData)\n",
    "print('[{}] done!'.format(strftime(\"%Y-%m-%d %H:%M:%S\")))"
   ]
  },
  {
   "cell_type": "code",
   "execution_count": 10,
   "metadata": {},
   "outputs": [
    {
     "name": "stdout",
     "output_type": "stream",
     "text": [
      "[2019-09-02 15:44:04] add meta data\n",
      "[2019-09-02 15:44:09]  - FocalLengthIn35mmFilm\n",
      "[2019-09-02 15:44:09]  - ImageLength\n",
      "[2019-09-02 15:44:09]  - LensSerialNumber\n",
      "[2019-09-02 15:44:09]  - MeteringMode\n",
      "[2019-09-02 15:44:09]  - FocalPlaneYResolution\n",
      "[2019-09-02 15:44:09]  - GainControl\n",
      "[2019-09-02 15:44:09]  - MaxApertureValue\n",
      "[2019-09-02 15:44:09]  - ApertureValue\n",
      "[2019-09-02 15:44:09]  - Model\n",
      "[2019-09-02 15:44:09]  - Flash\n",
      "[2019-09-02 15:44:09]  - CompressedBitsPerPixel\n",
      "[2019-09-02 15:44:09]  - LensSpecification\n",
      "[2019-09-02 15:44:09]  - WhiteBalance\n",
      "[2019-09-02 15:44:09]  - ExifVersion\n",
      "[2019-09-02 15:44:09]  - ExposureTime\n",
      "[2019-09-02 15:44:09]  - SubsecTime\n",
      "[2019-09-02 15:44:09]  - LightSource\n",
      "[2019-09-02 15:44:10]  - BrightnessValue\n",
      "[2019-09-02 15:44:10]  - YCbCrPositioning\n",
      "[2019-09-02 15:44:10]  - XResolution\n",
      "[2019-09-02 15:44:10]  - Orientation\n",
      "[2019-09-02 15:44:10]  - SubjectLocation\n",
      "[2019-09-02 15:44:10]  - FNumber\n",
      "[2019-09-02 15:44:10]  - SubjectDistanceRange\n",
      "[2019-09-02 15:44:10]  - ImageWidth\n",
      "[2019-09-02 15:44:10]  - ExposureProgram\n",
      "[2019-09-02 15:44:10]  - Make\n",
      "[2019-09-02 15:44:10]  - ShutterSpeedValue\n",
      "[2019-09-02 15:44:10]  - DigitalZoomRatio\n",
      "[2019-09-02 15:44:10]  - ExifImageHeight\n",
      "[2019-09-02 15:44:10]  - DateTimeDigitized\n",
      "[2019-09-02 15:44:10]  - FocalLength\n",
      "[2019-09-02 15:44:10]  - SubsecTimeOriginal\n",
      "[2019-09-02 15:44:10]  - ExifInteroperabilityOffset\n",
      "[2019-09-02 15:44:10]  - FocalPlaneXResolution\n",
      "[2019-09-02 15:44:10]  - LensModel\n",
      "[2019-09-02 15:44:10]  - ISOSpeedRatings\n",
      "[2019-09-02 15:44:10]  - DateTimeOriginal\n",
      "[2019-09-02 15:44:10]  - ExifOffset\n",
      "[2019-09-02 15:44:10]  - SceneCaptureType\n",
      "[2019-09-02 15:44:10]  - YResolution\n",
      "[2019-09-02 15:44:10]  - ExifImageWidth\n",
      "[2019-09-02 15:44:10]  - DateTime\n"
     ]
    }
   ],
   "source": [
    "print('[{}] add meta data'.format(strftime(\"%Y-%m-%d %H:%M:%S\")))\n",
    "L = set()\n",
    "for i,r in Photo_DF.iterrows():\n",
    "    L = L.union(set(r.MetaData.keys()))\n",
    "MetaList = [\n",
    "    'FNumber','MaxApertureValue','ShutterSpeedValue','CompressedBitsPerPixel','ExifOffset','ExifVersion','ImageWidth',\n",
    "    'LensModel','ExposureProgram','SubjectLocation','ExifInteroperabilityOffset','Model','XResolution',\n",
    "    'FocalPlaneYResolution','FocalPlaneXResolution','Flash','SceneCaptureType','DateTimeDigitized','LensSpecification',\n",
    "    'Orientation','SubjectDistanceRange','ExifImageWidth','FocalLengthIn35mmFilm','DigitalZoomRatio','ExposureTime',\n",
    "    'DateTime','Make','FocalLength','SubsecTime','MeteringMode','DateTimeOriginal','GainControl','ISOSpeedRatings',\n",
    "    'SubsecTimeOriginal','WhiteBalance','ImageLength','LensSerialNumber','LightSource','BrightnessValue','ExifImageHeight',\n",
    "    'YCbCrPositioning','YResolution','ApertureValue'\n",
    "]\n",
    "for l in L:\n",
    "    if l in MetaList:\n",
    "        print('[{}]  - {}'.format(strftime(\"%Y-%m-%d %H:%M:%S\"),l))\n",
    "        Photo_DF[l] = Photo_DF.MetaData.apply(lambda x:x[l] if l in x.keys() else np.NaN)\n",
    "        #display(Photo_DF[c].value_counts().iloc[0:10])"
   ]
  },
  {
   "cell_type": "code",
   "execution_count": 11,
   "metadata": {},
   "outputs": [
    {
     "name": "stdout",
     "output_type": "stream",
     "text": [
      "[2019-09-02 15:44:10] finding the date\n",
      "[2019-09-02 15:54:49] done!\n"
     ]
    }
   ],
   "source": [
    "print('[{}] finding the date'.format(strftime(\"%Y-%m-%d %H:%M:%S\")))\n",
    "def ConvertToDate(x):\n",
    "    try: \n",
    "        return(pd.to_datetime(x)) \n",
    "    except: \n",
    "        return(pd.NaT)\n",
    "Photo_DF['Date_Taken'] = Photo_DF.path.apply(get_date_taken)\n",
    "for c in ['DateTimeDigitized','DateTimeOriginal','DateTime','Date_Taken']:\n",
    "    Photo_DF[c] = Photo_DF[c].apply(ConvertToDate)\n",
    "print('[{}] done!'.format(strftime(\"%Y-%m-%d %H:%M:%S\")))"
   ]
  },
  {
   "cell_type": "code",
   "execution_count": 17,
   "metadata": {},
   "outputs": [
    {
     "name": "stdout",
     "output_type": "stream",
     "text": [
      "DateTimeDigitized True     36358\n",
      "False        1\n",
      "Name: DateTimeDigitized, dtype: int64\n",
      "DateTimeOriginal True     36358\n",
      "False        1\n",
      "Name: DateTimeOriginal, dtype: int64\n",
      "DateTime True     36358\n",
      "False        1\n",
      "Name: DateTime, dtype: int64\n",
      "Date_Taken True     36358\n",
      "False        1\n",
      "Name: Date_Taken, dtype: int64\n"
     ]
    }
   ],
   "source": [
    "for c in ['DateTimeDigitized','DateTimeOriginal','DateTime','Date_Taken']:\n",
    "    print('{} {}'.format(c,pd.isnull(Photo_DF[c]).value_counts()))"
   ]
  },
  {
   "cell_type": "code",
   "execution_count": 13,
   "metadata": {
    "scrolled": true
   },
   "outputs": [
    {
     "data": {
      "text/plain": [
       "True     36358\n",
       "False        1\n",
       "dtype: int64"
      ]
     },
     "execution_count": 13,
     "metadata": {},
     "output_type": "execute_result"
    }
   ],
   "source": [
    "S = pd.Series()\n",
    "for i,r in Photo_DF.iterrows():\n",
    "    L = []\n",
    "    for c in ['DateTimeDigitized','DateTimeOriginal','DateTime','Date_Taken']:\n",
    "        if not pd.isnull(r[c]):\n",
    "            L.append(r[c])\n",
    "    if len(L)>0:\n",
    "        S.loc[i] = min(L)\n",
    "    else:\n",
    "        S.loc[i] = pd.NaT\n",
    "pd.isnull(S).value_counts()"
   ]
  },
  {
   "cell_type": "code",
   "execution_count": 14,
   "metadata": {},
   "outputs": [
    {
     "data": {
      "text/plain": [
       "2       NaT\n",
       "3       NaT\n",
       "4       NaT\n",
       "5       NaT\n",
       "6       NaT\n",
       "7       NaT\n",
       "8       NaT\n",
       "9       NaT\n",
       "10      NaT\n",
       "11      NaT\n",
       "12      NaT\n",
       "13      NaT\n",
       "14      NaT\n",
       "15      NaT\n",
       "16      NaT\n",
       "17      NaT\n",
       "18      NaT\n",
       "19      NaT\n",
       "20      NaT\n",
       "21      NaT\n",
       "22      NaT\n",
       "23      NaT\n",
       "24      NaT\n",
       "25      NaT\n",
       "26      NaT\n",
       "27      NaT\n",
       "28      NaT\n",
       "29      NaT\n",
       "30      NaT\n",
       "33      NaT\n",
       "         ..\n",
       "37166   NaT\n",
       "37167   NaT\n",
       "37168   NaT\n",
       "37169   NaT\n",
       "37170   NaT\n",
       "37171   NaT\n",
       "37172   NaT\n",
       "37173   NaT\n",
       "37174   NaT\n",
       "37175   NaT\n",
       "37176   NaT\n",
       "37177   NaT\n",
       "37178   NaT\n",
       "37181   NaT\n",
       "37182   NaT\n",
       "37188   NaT\n",
       "37187   NaT\n",
       "37189   NaT\n",
       "37190   NaT\n",
       "37191   NaT\n",
       "37192   NaT\n",
       "37193   NaT\n",
       "37194   NaT\n",
       "37195   NaT\n",
       "37196   NaT\n",
       "37197   NaT\n",
       "37198   NaT\n",
       "37200   NaT\n",
       "37201   NaT\n",
       "37199   NaT\n",
       "Length: 36359, dtype: datetime64[ns]"
      ]
     },
     "execution_count": 14,
     "metadata": {},
     "output_type": "execute_result"
    }
   ],
   "source": [
    "S"
   ]
  },
  {
   "cell_type": "code",
   "execution_count": 6,
   "metadata": {
    "scrolled": true
   },
   "outputs": [
    {
     "data": {
      "text/plain": [
       "(36359, 47)"
      ]
     },
     "execution_count": 6,
     "metadata": {},
     "output_type": "execute_result"
    }
   ],
   "source": [
    "Photos_DF = pd.read_excel('Photos_Meta_Data_20190825_204844.xlsx')\n",
    "Photos_DF.shape"
   ]
  },
  {
   "cell_type": "code",
   "execution_count": 27,
   "metadata": {},
   "outputs": [],
   "source": [
    "File_Columns = ['path', 'name', 'extension', 'size']\n",
    "Photo_DF[File_Columns + MetaList].to_excel('Photos_Meta_Data_{}.xlsx'.format(strftime(\"%Y%m%d_%H%M%S\")),encoding='latin-1',index=False)"
   ]
  },
  {
   "cell_type": "code",
   "execution_count": null,
   "metadata": {},
   "outputs": [],
   "source": [
    "MetaList = [\n",
    "    'DateTime',\n",
    "    'Make',\n",
    "    'Model',\n",
    "    'ExifImageWidth',\n",
    "    'ExifImageHeight'\n",
    "    'FocalLengthIn35mmFilm',\n",
    "    'ExposureTime',\n",
    "    'ISOSpeedRatings',\n",
    "    'Flash',\n",
    "]\n"
   ]
  },
  {
   "cell_type": "code",
   "execution_count": 4,
   "metadata": {},
   "outputs": [
    {
     "data": {
      "image/png": "[encoded data removed]",
      "text/plain": [
       "<Figure size 1080x360 with 1 Axes>"
      ]
     },
     "metadata": {
      "needs_background": "light"
     },
     "output_type": "display_data"
    }
   ],
   "source": [
    "Photo_DF[Photo_DF.extension.isin(['jpg','mp4','mov'])].mtime.apply(lambda x:x.strftime('%Y-%m')).value_counts().sort_index().plot(figsize=(15,5))\n",
    "plt.xlabel('Month')\n",
    "plt.ylabel('Number of JPG, MP4, and MOV Files')\n",
    "plt.show()"
   ]
  },
  {
   "cell_type": "code",
   "execution_count": 18,
   "metadata": {},
   "outputs": [
    {
     "data": {
      "text/plain": [
       "'2009:10:19 11:49:34'"
      ]
     },
     "execution_count": 18,
     "metadata": {},
     "output_type": "execute_result"
    }
   ],
   "source": [
    "\n",
    "Image(filename=Photo_DF[Photo_DF.mtime==Photo_DF.mtime.min()].path)\n",
    "Image(filename=Photo_DF[Photo_DF.mtime==Photo_DF.mtime.max()].path)\n",
    "Photo_DF[Photo_DF.mtime==Photo_DF.mtime.min()].path.iloc[0]\n",
    "Photo_DF[Photo_DF.mtime==Photo_DF.mtime.max()].path.iloc[0]\n",
    "get_date_taken(Photo_DF[Photo_DF.mtime==Photo_DF.mtime.max()].path.iloc[0])"
   ]
  }
 ],
 "metadata": {
  "kernelspec": {
   "display_name": "Python 3",
   "language": "python",
   "name": "python3"
  },
  "language_info": {
   "codemirror_mode": {
    "name": "ipython",
    "version": 3
   },
   "file_extension": ".py",
   "mimetype": "text/x-python",
   "name": "python",
   "nbconvert_exporter": "python",
   "pygments_lexer": "ipython3",
   "version": "3.7.3"
  }
 },
 "nbformat": 4,
 "nbformat_minor": 2
}
